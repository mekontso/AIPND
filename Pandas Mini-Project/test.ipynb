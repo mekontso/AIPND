{
 "cells": [
  {
   "cell_type": "code",
   "execution_count": 1,
   "metadata": {
    "collapsed": true,
    "pycharm": {
     "is_executing": false,
     "name": "#%%\n"
    }
   },
   "outputs": [
    {
     "data": {
      "text/plain": "            Adj Close\nDate                 \n2004-08-19  49.845802\n2004-08-20  53.805050\n2004-08-23  54.346527\n2004-08-24  52.096165\n2004-08-25  52.657513",
      "text/html": "<div>\n<style scoped>\n    .dataframe tbody tr th:only-of-type {\n        vertical-align: middle;\n    }\n\n    .dataframe tbody tr th {\n        vertical-align: top;\n    }\n\n    .dataframe thead th {\n        text-align: right;\n    }\n</style>\n<table border=\"1\" class=\"dataframe\">\n  <thead>\n    <tr style=\"text-align: right;\">\n      <th></th>\n      <th>Adj Close</th>\n    </tr>\n    <tr>\n      <th>Date</th>\n      <th></th>\n    </tr>\n  </thead>\n  <tbody>\n    <tr>\n      <th>2004-08-19</th>\n      <td>49.845802</td>\n    </tr>\n    <tr>\n      <th>2004-08-20</th>\n      <td>53.805050</td>\n    </tr>\n    <tr>\n      <th>2004-08-23</th>\n      <td>54.346527</td>\n    </tr>\n    <tr>\n      <th>2004-08-24</th>\n      <td>52.096165</td>\n    </tr>\n    <tr>\n      <th>2004-08-25</th>\n      <td>52.657513</td>\n    </tr>\n  </tbody>\n</table>\n</div>"
     },
     "metadata": {},
     "output_type": "execute_result",
     "execution_count": 1
    }
   ],
   "source": [
    "import pandas as pd\n",
    "\n",
    "# We load the Google stock data into a DataFrame\n",
    "google_stock = pd.read_csv(\"GOOG.csv\",usecols=[\"Date\", \"Adj Close\"], index_col=[\"Date\"], parse_dates=True)\n",
    "google_stock.head(5)"
   ]
  },
  {
   "cell_type": "code",
   "execution_count": 6,
   "outputs": [
    {
     "data": {
      "text/plain": "               Google\nDate                 \n2004-08-19  49.845802\n2004-08-20  53.805050\n2004-08-23  54.346527\n2004-08-24  52.096165\n2004-08-25  52.657513",
      "text/html": "<div>\n<style scoped>\n    .dataframe tbody tr th:only-of-type {\n        vertical-align: middle;\n    }\n\n    .dataframe tbody tr th {\n        vertical-align: top;\n    }\n\n    .dataframe thead th {\n        text-align: right;\n    }\n</style>\n<table border=\"1\" class=\"dataframe\">\n  <thead>\n    <tr style=\"text-align: right;\">\n      <th></th>\n      <th>Google</th>\n    </tr>\n    <tr>\n      <th>Date</th>\n      <th></th>\n    </tr>\n  </thead>\n  <tbody>\n    <tr>\n      <th>2004-08-19</th>\n      <td>49.845802</td>\n    </tr>\n    <tr>\n      <th>2004-08-20</th>\n      <td>53.805050</td>\n    </tr>\n    <tr>\n      <th>2004-08-23</th>\n      <td>54.346527</td>\n    </tr>\n    <tr>\n      <th>2004-08-24</th>\n      <td>52.096165</td>\n    </tr>\n    <tr>\n      <th>2004-08-25</th>\n      <td>52.657513</td>\n    </tr>\n  </tbody>\n</table>\n</div>"
     },
     "metadata": {},
     "output_type": "execute_result",
     "execution_count": 6
    }
   ],
   "source": [
    "google_stock = google_stock.rename(columns = {\"Adj Close\":\"Google\"})\n",
    "google_stock.head(5)"
   ],
   "metadata": {
    "collapsed": false,
    "pycharm": {
     "name": "#%%\n",
     "is_executing": false
    }
   }
  },
  {
   "cell_type": "code",
   "execution_count": 7,
   "outputs": [
    {
     "data": {
      "text/plain": "Google    3313\ndtype: int64"
     },
     "metadata": {},
     "output_type": "execute_result",
     "execution_count": 7
    }
   ],
   "source": [
    "google_stock.count()"
   ],
   "metadata": {
    "collapsed": false,
    "pycharm": {
     "name": "#%%\n",
     "is_executing": false
    }
   }
  },
  {
   "cell_type": "code",
   "execution_count": null,
   "outputs": [],
   "source": [
    "\n"
   ],
   "metadata": {
    "collapsed": false,
    "pycharm": {
     "name": "#%%\n"
    }
   }
  }
 ],
 "metadata": {
  "kernelspec": {
   "display_name": "Python 3",
   "language": "python",
   "name": "python3"
  },
  "language_info": {
   "codemirror_mode": {
    "name": "ipython",
    "version": 2
   },
   "file_extension": ".py",
   "mimetype": "text/x-python",
   "name": "python",
   "nbconvert_exporter": "python",
   "pygments_lexer": "ipython2",
   "version": "2.7.6"
  },
  "pycharm": {
   "stem_cell": {
    "cell_type": "raw",
    "source": [],
    "metadata": {
     "collapsed": false
    }
   }
  }
 },
 "nbformat": 4,
 "nbformat_minor": 0
}